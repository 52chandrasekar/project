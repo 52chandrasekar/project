{
  "nbformat": 4,
  "nbformat_minor": 0,
  "metadata": {
    "colab": {
      "provenance": []
    },
    "kernelspec": {
      "name": "python3",
      "display_name": "Python 3"
    },
    "language_info": {
      "name": "python"
    }
  },
  "cells": [
    {
      "cell_type": "markdown",
      "source": [
        "#Email Slicer"
      ],
      "metadata": {
        "id": "SWmbwzy8Zmsb"
      }
    },
    {
      "cell_type": "markdown",
      "source": [
        "To make an email slicer in Python, we'll need to construct a program that can obtain the email's username and domain name.\n",
        "\n",
        "As a result, we must split the email into two strings using the '@' separator. Let's look at how to use Python to separate the email and domain name:"
      ],
      "metadata": {
        "id": "4FoaEwzHcbm5"
      }
    },
    {
      "cell_type": "code",
      "source": [
        "#code"
      ],
      "metadata": {
        "id": "j8CVa3E4cjkR"
      },
      "execution_count": 1,
      "outputs": []
    },
    {
      "cell_type": "code",
      "source": [
        "#input the mail\n",
        "email=input(\"Enter the mail:\")\n",
        "username=email[:email.index('@')]\n",
        "domain=email[email.index('@')+1:]"
      ],
      "metadata": {
        "colab": {
          "base_uri": "https://localhost:8080/"
        },
        "id": "K9GyZAqVcpN9",
        "outputId": "e4be6241-ec82-48b0-f53a-75c70c7268b5"
      },
      "execution_count": 27,
      "outputs": [
        {
          "name": "stdout",
          "output_type": "stream",
          "text": [
            "Enter the mail:52chandrasekar@gmail.com\n"
          ]
        }
      ]
    },
    {
      "cell_type": "code",
      "source": [
        "# printing result\n",
        "print(\"Your user name is :\",username,\" and your domain: \",domain)"
      ],
      "metadata": {
        "colab": {
          "base_uri": "https://localhost:8080/"
        },
        "id": "q0zjLWwydqZF",
        "outputId": "73bb71a2-3d6e-4f51-f5ae-4a5a0469aef8"
      },
      "execution_count": 32,
      "outputs": [
        {
          "output_type": "stream",
          "name": "stdout",
          "text": [
            "Your user name is : 52chandrasekar  and your domain:  gmail.com\n"
          ]
        }
      ]
    }
  ]
}